{
 "cells": [
  {
   "cell_type": "code",
   "execution_count": 1,
   "id": "8fb09f19",
   "metadata": {},
   "outputs": [],
   "source": [
    "import os\n",
    "\n",
    "from dotenv import load_dotenv"
   ]
  },
  {
   "cell_type": "code",
   "execution_count": 2,
   "id": "d386f75a",
   "metadata": {},
   "outputs": [],
   "source": [
    "# set env vars\n",
    "load_dotenv(\"./.env\")\n",
    "os.environ[\"LANGSMITH_PROJECT\"] = \"structured_output_tagging\""
   ]
  },
  {
   "cell_type": "code",
   "execution_count": 3,
   "id": "1c378212",
   "metadata": {},
   "outputs": [],
   "source": [
    "from langchain.chat_models import init_chat_model\n",
    "\n",
    "llm = init_chat_model(model=\"claude-sonnet-4-20250514\", model_provider=\"anthropic\")"
   ]
  },
  {
   "cell_type": "code",
   "execution_count": null,
   "id": "1518c232",
   "metadata": {},
   "outputs": [],
   "source": [
    "# define pydantic model\n",
    "from langchain_core.prompts import ChatPromptTemplate\n",
    "from pydantic import BaseModel, Field\n",
    "\n",
    "tagging_prompt = ChatPromptTemplate.from_template(\n",
    "    \"\"\"\n",
    "Extract the desired informaiton from the following passage.\n",
    "Only extract the properties mentioned in the 'Classification' function.\n",
    "Passage:\n",
    "{input}\n",
    "\"\"\"\n",
    ")\n",
    "\n",
    "\n",
    "class Classifiaction(BaseModel):\n",
    "    sentiment: str = Field(description=\"The sentiment of the text\")\n",
    "    aggressiveness: int = Field(description=\"How aggressive the text is on a scale from 1 to 10\")\n",
    "    language: str = Field(description=\"The language the text is written in\")\n",
    "\n",
    "\n",
    "structured_llm = llm.with_structured_output(Classifiaction)"
   ]
  },
  {
   "cell_type": "code",
   "execution_count": null,
   "id": "a478c51f",
   "metadata": {},
   "outputs": [],
   "source": [
    "# run inference\n",
    "input = \"I'm so friggin happy to have met you! I think we'll be soulmates!\"\n",
    "input_spanish = \"Estoy increiblemente contento de haberte conocido! Creo que seremos muy buenos amigos!\"\n",
    "\n",
    "prompt = tagging_prompt.invoke(input=input)\n",
    "response = structured_llm.invoke(prompt)\n",
    "\n",
    "print(response.model_dump())"
   ]
  },
  {
   "cell_type": "code",
   "execution_count": null,
   "id": "fdb2750e",
   "metadata": {},
   "outputs": [
    {
     "name": "stdout",
     "output_type": "stream",
     "text": [
      "{'sentiment': 'positive', 'aggessiveness': 2, 'language': 'English'}\n"
     ]
    }
   ],
   "source": []
  },
  {
   "cell_type": "markdown",
   "id": "d4765459",
   "metadata": {},
   "source": [
    "# Defining labels"
   ]
  },
  {
   "cell_type": "code",
   "execution_count": null,
   "id": "9386d944",
   "metadata": {},
   "outputs": [],
   "source": [
    "# modify the pydantic model\n",
    "from typing import Literal\n",
    "\n",
    "\n",
    "class Classifiaction(BaseModel):\n",
    "    sentiment: Literal[\"sad\", \"happy\", \"neutral\", \"other\"] = Field(description=\"The sentiment of the text\")\n",
    "    aggressiveness: int = Field(description=\"How aggressive the text is on a scale from 1 to 5\", ge=1, le=5)\n",
    "    language: str = Field(description=\"The language the text is written in\")\n",
    "\n",
    "\n",
    "structured_llm = llm.with_structured_output(Classifiaction)"
   ]
  },
  {
   "cell_type": "code",
   "execution_count": 13,
   "id": "eec76b1d",
   "metadata": {},
   "outputs": [
    {
     "name": "stdout",
     "output_type": "stream",
     "text": [
      "{'sentiment': 'happy', 'aggressiveness': 2, 'language': 'English'}\n"
     ]
    }
   ],
   "source": [
    "# run inference with the defined labels\n",
    "prompt = tagging_prompt.invoke(input=input)\n",
    "response = structured_llm.invoke(prompt)\n",
    "\n",
    "print(response.model_dump())"
   ]
  }
 ],
 "metadata": {
  "kernelspec": {
   "display_name": "dev-wth-llm",
   "language": "python",
   "name": "python3"
  },
  "language_info": {
   "codemirror_mode": {
    "name": "ipython",
    "version": 3
   },
   "file_extension": ".py",
   "mimetype": "text/x-python",
   "name": "python",
   "nbconvert_exporter": "python",
   "pygments_lexer": "ipython3",
   "version": "3.12.11"
  }
 },
 "nbformat": 4,
 "nbformat_minor": 5
}
