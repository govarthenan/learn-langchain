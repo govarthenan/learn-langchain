{
 "cells": [
  {
   "cell_type": "code",
   "execution_count": null,
   "id": "05f873b9",
   "metadata": {},
   "outputs": [],
   "source": [
    "import os\n",
    "\n",
    "from dotenv import load_dotenv"
   ]
  },
  {
   "cell_type": "code",
   "execution_count": 2,
   "id": "034cb4e1",
   "metadata": {},
   "outputs": [],
   "source": [
    "# set env vars\n",
    "load_dotenv(\"./.env\")\n",
    "os.environ[\"LANGSMITH_PROJECT\"] = \"tool_calling_extraction\""
   ]
  },
  {
   "cell_type": "code",
   "execution_count": 3,
   "id": "e0f34762",
   "metadata": {},
   "outputs": [],
   "source": [
    "# define schema\n",
    "from typing import Optional\n",
    "\n",
    "from pydantic import BaseModel, Field\n",
    "\n",
    "\n",
    "class Computer(BaseModel):\n",
    "    \"\"\"Specifications of any computing device\"\"\"\n",
    "\n",
    "    model: Optional[str] = Field(description=\"The specific model number or name of the computing device.\")\n",
    "    storage: Optional[int] = Field(description=\"How many GBs the computng device has as the total storage.\")\n",
    "    num_cpu: Optional[int] = Field(description=\"The number of physical CPUs the device has.\", ge=1)\n",
    "    gpus: Optional[list[str]] = Field(description=\"The graphics processing units the comuting device has.\")"
   ]
  },
  {
   "cell_type": "code",
   "execution_count": null,
   "id": "331ee878",
   "metadata": {},
   "outputs": [],
   "source": [
    "# design prompt\n",
    "from langchain_core.prompts import ChatPromptTemplate\n",
    "\n",
    "prompt_template = ChatPromptTemplate.from_messages(\n",
    "    [\n",
    "        (\n",
    "            \"system\",\n",
    "            \"You are an expert information extraction machine. Only extract relevant, accurat and true information from the input. If you don't know the value of an attribute you are asked to extract, you can return None. Don't make up information you don't know.\",\n",
    "        ),\n",
    "        (\"human\", \"{text}\"),\n",
    "    ]\n",
    ")"
   ]
  },
  {
   "cell_type": "code",
   "execution_count": 6,
   "id": "44016951",
   "metadata": {},
   "outputs": [],
   "source": [
    "# set up structured output\n",
    "from langchain.chat_models import init_chat_model\n",
    "\n",
    "llm = init_chat_model(model=\"gpt-5\", model_provider=\"openai\")\n",
    "\n",
    "structured_llm = llm.with_structured_output(schema=Computer)"
   ]
  },
  {
   "cell_type": "code",
   "execution_count": null,
   "id": "bac0a63f",
   "metadata": {},
   "outputs": [
    {
     "data": {
      "text/plain": [
       "Computer(model=None, storage=None, num_cpu=1, gpus=['NVIDIA GPU', 'Integrated GPU'])"
      ]
     },
     "execution_count": 7,
     "metadata": {},
     "output_type": "execute_result"
    }
   ],
   "source": [
    "# run inference\n",
    "text = \"I'm looking to upgrade my intel dual core proecssor. It's nvidia gpu is getting bottlenecked by the weak igpu. It's an old Lenovo thinkstation.\"\n",
    "prompt = prompt_template.invoke(input={\"text\": text})\n",
    "structured_llm.invoke(prompt)"
   ]
  },
  {
   "cell_type": "code",
   "execution_count": null,
   "id": "a8b357ca",
   "metadata": {},
   "outputs": [],
   "source": []
  }
 ],
 "metadata": {
  "kernelspec": {
   "display_name": "dev-wth-llm",
   "language": "python",
   "name": "python3"
  },
  "language_info": {
   "codemirror_mode": {
    "name": "ipython",
    "version": 3
   },
   "file_extension": ".py",
   "mimetype": "text/x-python",
   "name": "python",
   "nbconvert_exporter": "python",
   "pygments_lexer": "ipython3",
   "version": "3.12.11"
  }
 },
 "nbformat": 4,
 "nbformat_minor": 5
}
