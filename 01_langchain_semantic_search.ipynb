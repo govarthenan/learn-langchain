{
 "cells": [
  {
   "cell_type": "code",
   "execution_count": 1,
   "id": "ccf595ed",
   "metadata": {},
   "outputs": [
    {
     "data": {
      "text/plain": [
       "True"
      ]
     },
     "execution_count": 1,
     "metadata": {},
     "output_type": "execute_result"
    }
   ],
   "source": [
    "import os\n",
    "import pprint\n",
    "\n",
    "from dotenv import load_dotenv\n",
    "from langchain_core.documents import Document\n",
    "\n",
    "load_dotenv(\"./.env\", override=True)"
   ]
  },
  {
   "cell_type": "code",
   "execution_count": 2,
   "id": "0eff1ba2",
   "metadata": {},
   "outputs": [],
   "source": [
    "os.environ[\"LANGSMITH_PROJECT\"] = \"lc_semantic_search\""
   ]
  },
  {
   "cell_type": "code",
   "execution_count": 3,
   "id": "5280a884",
   "metadata": {},
   "outputs": [],
   "source": [
    "# documents\n",
    "docs: list[Document] = [\n",
    "    Document(\n",
    "        page_content=\"Trichogenes claviger, the Caetés catfish, is a critically endangered species of pencil catfish native to the Atlantic Forest of Brazil. It was discovered early in 2010 and scientifically described later in the same year. One of three species within the genus Trichogenes, it is restricted to an area of 16 km² in the Caetés forest, a mountainous area in the Brazilian state of Espírito Santo. When discovered, the rainforest in which it occurs was unprotected and threatened by deforestation. A private nature reserve has since been established, allowing visitors to see the fish in its habitat.\",\n",
    "        metadata={\"source\": \"wikipedia\"},\n",
    "        id=\"fish\",\n",
    "    ),\n",
    "    Document(\n",
    "        page_content=\"Deforestation or forest clearance is the removal and destruction of a forest or stand of trees from land that is then converted to non-forest use.[1] Deforestation can involve conversion of forest land to farms, ranches, or urban use. About 31% of Earth's land surface is covered by forests at present.[2] This is one-third less than the forest cover before the expansion of agriculture, with half of that loss occurring in the last century.[3] Between 15 million to 18 million hectares of forest, an area the size of Bangladesh, are destroyed every year. On average 2,400 trees are cut down each minute.[4] Estimates vary widely as to the extent of deforestation in the tropics.[5][6] In 2019, nearly a third of the overall tree cover loss, or 3.8 million hectares, occurred within humid tropical primary forests. These are areas of mature rainforest that are especially important for biodiversity and carbon storage.\",\n",
    "        metadata={\"source\": \"wikipedia\"},\n",
    "        id=\"deforestration\",\n",
    "    ),\n",
    "]"
   ]
  },
  {
   "cell_type": "code",
   "execution_count": 4,
   "id": "4d62f8f3",
   "metadata": {},
   "outputs": [
    {
     "name": "stdout",
     "output_type": "stream",
     "text": [
      "{'lc': 1,\n",
      " 'type': 'constructor',\n",
      " 'id': ['langchain', 'schema', 'document', 'Document'],\n",
      " 'kwargs': {'metadata': {'producer': 'Skia/PDF m136 Google Docs Renderer',\n",
      "                         'creator': 'PyPDF',\n",
      "                         'creationdate': '',\n",
      "                         'title': 'name-change-affidavit',\n",
      "                         'source': '/media/gova/Data/others/amma/name-change-affidavit.pdf',\n",
      "                         'total_pages': 1,\n",
      "                         'page': 0,\n",
      "                         'page_label': '1'},\n",
      "            'page_content': 'AFFIDAVIT  FOR  CHANGE  OF  NAME  AFTER  '\n",
      "                            'MARRIAGE   I,  Thuropatha,  daughter  of  Mr.  '\n",
      "                            'K.  Somanathan  and  wife  of  Mr.  K.  '\n",
      "                            'Rajadurai  aged  60  \\n'\n",
      "                            'residing\\n'\n",
      "                            ' \\n'\n",
      "                            'at\\n'\n",
      "                            ' \\n'\n",
      "                            '65/1A,\\n'\n",
      "                            ' \\n'\n",
      "                            'Thisaweerasingam\\n'\n",
      "                            ' \\n'\n",
      "                            'Square\\n'\n",
      "                            ' \\n'\n",
      "                            'West,\\n'\n",
      "                            ' \\n'\n",
      "                            'Batticaloa,\\n'\n",
      "                            ' \\n'\n",
      "                            'do\\n'\n",
      "                            ' \\n'\n",
      "                            'hereby\\n'\n",
      "                            ' \\n'\n",
      "                            'solemnly\\n'\n",
      "                            ' \\n'\n",
      "                            'affirm\\n'\n",
      "                            ' \\n'\n",
      "                            'and\\n'\n",
      "                            ' \\n'\n",
      "                            'declare\\n'\n",
      "                            ' \\n'\n",
      "                            'as\\n'\n",
      "                            ' \\n'\n",
      "                            'under:\\n'\n",
      "                            '  1.  That  my  maiden  name  is  Miss.  '\n",
      "                            'Somanathan  Thuropatha.  2.  That  I  got  '\n",
      "                            'married  to  Mr.  K.  Rajadurai  on  21/10/1998  '\n",
      "                            'at  Palugamam  2.  3.  After  marriage,  my  '\n",
      "                            'name  is  Mrs.  Thuropatha  Rajadurai.  4.  I  '\n",
      "                            'state  that  Miss.  Somanathan  Thruopatha  and  '\n",
      "                            'Mrs.  Thruropatha  Rajadurai  are  \\n'\n",
      "                            'the\\n'\n",
      "                            ' \\n'\n",
      "                            'names\\n'\n",
      "                            ' \\n'\n",
      "                            'of\\n'\n",
      "                            ' \\n'\n",
      "                            'one\\n'\n",
      "                            ' \\n'\n",
      "                            'and\\n'\n",
      "                            ' \\n'\n",
      "                            'the\\n'\n",
      "                            ' \\n'\n",
      "                            'same\\n'\n",
      "                            ' \\n'\n",
      "                            'person,\\n'\n",
      "                            ' \\n'\n",
      "                            'and\\n'\n",
      "                            ' \\n'\n",
      "                            'that\\n'\n",
      "                            ' \\n'\n",
      "                            'is\\n'\n",
      "                            ' \\n'\n",
      "                            'myself.\\n'\n",
      "                            '  I’m  executing  this  declaration  to  be  '\n",
      "                            'submitted  to  the  concerned  authorities  for  '\n",
      "                            'the  \\n'\n",
      "                            'change\\n'\n",
      "                            ' \\n'\n",
      "                            'of\\n'\n",
      "                            ' \\n'\n",
      "                            'my\\n'\n",
      "                            ' \\n'\n",
      "                            'name\\n'\n",
      "                            ' \\n'\n",
      "                            'in\\n'\n",
      "                            ' \\n'\n",
      "                            'the\\n'\n",
      "                            ' \\n'\n",
      "                            'membership\\n'\n",
      "                            ' \\n'\n",
      "                            'database.\\n'\n",
      "                            '  I  hereby  state  that  whatever  is  stated  '\n",
      "                            'herein  above  is  true  to  the  best  of  my  '\n",
      "                            'knowledge.    ……………………….  Deponent         '\n",
      "                            'Affirmed  to  at  Batticaloa,  on  this  …………..  '\n",
      "                            'day  of  March,  2025.     Before  me:   '\n",
      "                            '…………………………..  Commissioner  of  Oath',\n",
      "            'type': 'Document'}}\n"
     ]
    }
   ],
   "source": [
    "# load pdf\n",
    "from langchain_community.document_loaders import PyPDFLoader\n",
    "\n",
    "pdf_path = \"/media/gova/Data/others/amma/name-change-affidavit.pdf\"\n",
    "\n",
    "loader = PyPDFLoader(pdf_path, extract_images=True)\n",
    "\n",
    "docs = loader.load()\n",
    "pprint.pp(docs[0].to_json())"
   ]
  },
  {
   "cell_type": "code",
   "execution_count": 5,
   "id": "d5dd31aa",
   "metadata": {},
   "outputs": [
    {
     "name": "stdout",
     "output_type": "stream",
     "text": [
      "{'lc': 1,\n",
      " 'type': 'constructor',\n",
      " 'id': ['langchain', 'schema', 'document', 'Document'],\n",
      " 'kwargs': {'metadata': {'producer': 'Skia/PDF m136 Google Docs Renderer',\n",
      "                         'creator': 'PyPDF',\n",
      "                         'creationdate': '',\n",
      "                         'title': 'name-change-affidavit',\n",
      "                         'source': '/media/gova/Data/others/amma/name-change-affidavit.pdf',\n",
      "                         'total_pages': 1,\n",
      "                         'page': 0,\n",
      "                         'page_label': '1',\n",
      "                         'start_index': 641},\n",
      "            'page_content': 'person,\\n'\n",
      "                            ' \\n'\n",
      "                            'and\\n'\n",
      "                            ' \\n'\n",
      "                            'that\\n'\n",
      "                            ' \\n'\n",
      "                            'is\\n'\n",
      "                            ' \\n'\n",
      "                            'myself.\\n'\n",
      "                            '  I’m  executing  this  declaration  to  be  '\n",
      "                            'submitted  to  the  concerned  authorities  for  '\n",
      "                            'the  \\n'\n",
      "                            'change\\n'\n",
      "                            ' \\n'\n",
      "                            'of\\n'\n",
      "                            ' \\n'\n",
      "                            'my\\n'\n",
      "                            ' \\n'\n",
      "                            'name\\n'\n",
      "                            ' \\n'\n",
      "                            'in\\n'\n",
      "                            ' \\n'\n",
      "                            'the\\n'\n",
      "                            ' \\n'\n",
      "                            'membership\\n'\n",
      "                            ' \\n'\n",
      "                            'database.\\n'\n",
      "                            '  I  hereby  state  that  whatever  is  stated  '\n",
      "                            'herein  above  is  true  to  the  best  of  my  '\n",
      "                            'knowledge.    ……………………….  Deponent         '\n",
      "                            'Affirmed  to  at  Batticaloa,  on  this  …………..  '\n",
      "                            'day  of  March,  2025.     Before  me:   '\n",
      "                            '…………………………..  Commissioner  of  Oath',\n",
      "            'type': 'Document'}}\n"
     ]
    }
   ],
   "source": [
    "# split text\n",
    "from langchain_text_splitters import RecursiveCharacterTextSplitter\n",
    "\n",
    "text_splitter = RecursiveCharacterTextSplitter(chunk_size=1000, chunk_overlap=200, add_start_index=True)\n",
    "splits = text_splitter.split_documents(docs)\n",
    "\n",
    "pprint.pp(splits[1].to_json())"
   ]
  },
  {
   "cell_type": "code",
   "execution_count": 6,
   "id": "673f7c9d",
   "metadata": {},
   "outputs": [
    {
     "data": {
      "text/plain": [
       "langchain_core.documents.base.Document"
      ]
     },
     "execution_count": 6,
     "metadata": {},
     "output_type": "execute_result"
    }
   ],
   "source": [
    "type(splits[1])"
   ]
  },
  {
   "cell_type": "code",
   "execution_count": 7,
   "id": "e56c3279",
   "metadata": {},
   "outputs": [
    {
     "name": "stdout",
     "output_type": "stream",
     "text": [
      "3072\n",
      "[0.020266450941562653,\n",
      " -0.050126660615205765,\n",
      " -0.007206254173070192,\n",
      " -0.006685012485831976,\n",
      " -0.009287575259804726,\n",
      " 0.020222710445523262,\n",
      " -0.024480123072862625,\n",
      " 0.026725471019744873,\n",
      " -0.025282032787799835,\n",
      " 0.014186515472829342]\n"
     ]
    }
   ],
   "source": [
    "# get embeddings for each split\n",
    "from langchain_openai import OpenAIEmbeddings\n",
    "\n",
    "embeddding_model = OpenAIEmbeddings(model=\"text-embedding-3-large\")\n",
    "\n",
    "generated_embeddings = []\n",
    "\n",
    "for i in splits:\n",
    "    generated_embeddings.append(embeddding_model.embed_query(i.page_content))\n",
    "\n",
    "pprint.pp(len(generated_embeddings[0]))\n",
    "pprint.pp(generated_embeddings[0][:10])"
   ]
  },
  {
   "cell_type": "code",
   "execution_count": 8,
   "id": "11528e55",
   "metadata": {},
   "outputs": [],
   "source": [
    "# consttruct vector store\n",
    "from langchain_chroma import Chroma\n",
    "\n",
    "vector_store = Chroma(\n",
    "    collection_name=\"affidavit_letter\", embedding_function=embeddding_model, persist_directory=\"./.langchain_chroma_db\"\n",
    ")\n",
    "ids = vector_store.add_documents(documents=splits)"
   ]
  },
  {
   "cell_type": "code",
   "execution_count": 15,
   "id": "7c823322",
   "metadata": {},
   "outputs": [
    {
     "name": "stdout",
     "output_type": "stream",
     "text": [
      "1.2274361848831177 'AFFIDAVIT  FOR  CHANGE  OF  NAME  AFTER  MARRIAGE   I,  Thuropatha,  daughter  of  Mr.  K.  Somanathan  and  wife  of  Mr.  K.  Rajadurai  aged  60  \\nresiding\\n \\nat\\n \\n65/1A,\\n \\nThisaweerasingam\\n \\nSquare\\n \\nWest,\\n \\nBatticaloa,\\n \\ndo\\n \\nhereby\\n \\nsolemnly\\n \\naffirm\\n \\nand\\n \\ndeclare\\n \\nas\\n \\nunder:\\n  1.  That  my  maiden  name  is  Miss.  Somanathan  Thuropatha.  2.  That  I  got  married  to  Mr.  K.  Rajadurai  on  21/10/1998  at  Palugamam  2.  3.  After  marriage,  my  name  is  Mrs.  Thuropatha  Rajadurai.  4.  I  state  that  Miss.  Somanathan  Thruopatha  and  Mrs.  Thruropatha  Rajadurai  are  \\nthe\\n \\nnames\\n \\nof\\n \\none\\n \\nand\\n \\nthe\\n \\nsame\\n \\nperson,\\n \\nand\\n \\nthat\\n \\nis\\n \\nmyself.\\n  I’m  executing  this  declaration  to  be  submitted  to  the  concerned  authorities  for  the  \\nchange\\n \\nof\\n \\nmy\\n \\nname\\n \\nin\\n \\nthe\\n \\nmembership\\n \\ndatabase.'\n",
      "1.4031236171722412 'person,\\n \\nand\\n \\nthat\\n \\nis\\n \\nmyself.\\n  I’m  executing  this  declaration  to  be  submitted  to  the  concerned  authorities  for  the  \\nchange\\n \\nof\\n \\nmy\\n \\nname\\n \\nin\\n \\nthe\\n \\nmembership\\n \\ndatabase.\\n  I  hereby  state  that  whatever  is  stated  herein  above  is  true  to  the  best  of  my  knowledge.    ……………………….  Deponent         Affirmed  to  at  Batticaloa,  on  this  …………..  day  of  March,  2025.     Before  me:   …………………………..  Commissioner  of  Oath'\n"
     ]
    }
   ],
   "source": [
    "results = vector_store.similarity_search_with_score(\"Name of husband\")\n",
    "for i in results:\n",
    "    print(i[1], repr(i[0].page_content))"
   ]
  }
 ],
 "metadata": {
  "kernelspec": {
   "display_name": "dev-wth-llm",
   "language": "python",
   "name": "python3"
  },
  "language_info": {
   "codemirror_mode": {
    "name": "ipython",
    "version": 3
   },
   "file_extension": ".py",
   "mimetype": "text/x-python",
   "name": "python",
   "nbconvert_exporter": "python",
   "pygments_lexer": "ipython3",
   "version": "3.12.11"
  }
 },
 "nbformat": 4,
 "nbformat_minor": 5
}
